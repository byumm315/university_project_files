{
 "cells": [
  {
   "cell_type": "markdown",
   "metadata": {
    "id": "nMZCtV8-wUBi"
   },
   "source": [
    "# [Project] 코로나 데이터 분석"
   ]
  },
  {
   "cell_type": "markdown",
   "metadata": {
    "id": "q4nVw7MrwUBj"
   },
   "source": [
    "---"
   ]
  },
  {
   "cell_type": "markdown",
   "metadata": {
    "id": "30SKtC7RwUBk"
   },
   "source": [
    "## 프로젝트 목표\n",
    "- 서울시 코로나19 확진자 현황 데이터를 분석하여 유의미한 정보 도출\n",
    "- 탐색적 데이터 분석을 수행하기 위한 데이터 정제, 특성 엔지니어링, 시각화 방법 학습"
   ]
  },
  {
   "cell_type": "markdown",
   "metadata": {
    "id": "DKqVqsuNwUBk"
   },
   "source": [
    "---"
   ]
  },
  {
   "cell_type": "markdown",
   "metadata": {
    "id": "uHvelOrMwUBk"
   },
   "source": [
    "## 프로젝트 목차\n",
    "1. **데이터 읽기:** 코로나 데이터를 불러오고 Dataframe 구조를 확인<br>\n",
    "    1.1. 데이터 불러오기<br>\n",
    "<br> \n",
    "2. **데이터 정제:** 비어 있는 데이터 또는 쓸모 없는 데이터를 삭제<br>\n",
    "    2.1. 비어있는 column 지우기<br>\n",
    "<br>\n",
    "3. **데이터 시각화:** 각 변수 별로 추가적인 정제 또는 feature engineering 과정을 거치고 시각화를 통하여 데이터의 특성 파악<br>\n",
    "    3.1. 확진일 데이터 전처리하기<br>\n",
    "    3.2. 월별 확진자 수 출력<br>\n",
    "    3.3. 8월 일별 확진자 수 출력<br>\n",
    "    3.4. 지역별 확진자 수 출력<br>\n",
    "    3.5. 8월달 지역별 확진자 수 출력<br>\n",
    "    3.6. 월별 관악구 확진자 수 출력<br>\n",
    "    3.7. 서울 지역에서 확진자를 지도에 출력<br>"
   ]
  },
  {
   "cell_type": "markdown",
   "metadata": {
    "id": "lUQhF57GwUBl"
   },
   "source": [
    "---"
   ]
  },
  {
   "cell_type": "markdown",
   "metadata": {
    "id": "py5kyk7mwUBl"
   },
   "source": [
    "## 프로젝트 개요\n",
    "\n",
    "2020년 초에 발생한 코로나19 바이러스는 세계적으로 대유행하였고 이에 대한 많은 분석이 이루어지고 있습니다. 유행 초기엔 이를 분석할 데이터가 충분하지 않았지만 6개월 이상 지난 지금은 다양한 데이터 기관에서 코로나 관련 데이터를 공공으로 제공하고 있습니다.\n",
    "\n",
    "이번 프로젝트에서는 국내 공공데이터 포털에서 제공하는 `서울시 코로나19 확진자 현황` 데이터를 바탕으로 탐색적 데이터 분석을 수행해보겠습니다. 국내 데이터 중 확진자 비율이 제일 높고 사람이 제일 많은 서울시의 데이터를 선정하였으며, 이를 바탕으로 코로나19의 확진 추이 및 환자 특성에 대해서 데이터를 바탕으로 알아봅시다.\n",
    "\n"
   ]
  },
  {
   "cell_type": "markdown",
   "metadata": {
    "id": "Dy5Q39iIwUBm"
   },
   "source": [
    "---"
   ]
  },
  {
   "cell_type": "markdown",
   "metadata": {
    "id": "E-1xUfi8wUBm"
   },
   "source": [
    " "
   ]
  },
  {
   "cell_type": "markdown",
   "metadata": {
    "id": "r077bdYzwUBm"
   },
   "source": [
    "## 1. 데이터 읽기"
   ]
  },
  {
   "cell_type": "markdown",
   "metadata": {
    "id": "0e9Ht_41wUBm"
   },
   "source": [
    "필요한 패키지 설치 및 `import`한 후 `pandas`를 사용하여 데이터를 읽고 어떠한 데이터가 저장되어 있는지 확인합니다."
   ]
  },
  {
   "cell_type": "markdown",
   "metadata": {},
   "source": [
    "### 1.1. 데이터 불러오기"
   ]
  },
  {
   "cell_type": "code",
   "execution_count": null,
   "metadata": {
    "id": "VqCenoC3wUBn"
   },
   "outputs": [],
   "source": [
    "import numpy as np \n",
    "import pandas as pd \n",
    "import matplotlib.pyplot as plt\n",
    "import seaborn as sns"
   ]
  },
  {
   "cell_type": "code",
   "execution_count": null,
   "metadata": {
    "id": "6PeTXSwjwUBn"
   },
   "outputs": [],
   "source": [
    "# pd.read_csv를 통하여 dataframe 형태로 읽어옵니다.\n",
    "corona_all=pd.read_csv(\"./data/서울시 코로나19 확진자 현황.csv\")"
   ]
  },
  {
   "cell_type": "code",
   "execution_count": null,
   "metadata": {},
   "outputs": [],
   "source": [
    "corona_all"
   ]
  },
  {
   "cell_type": "code",
   "execution_count": null,
   "metadata": {
    "id": "HK1LUrkjwUBn",
    "outputId": "997869ef-2cb9-40a3-ada2-9f75f646ab49",
    "scrolled": true
   },
   "outputs": [],
   "source": [
    "# 상위 5개 데이터를 출력합니다.\n",
    "corona_all.head()"
   ]
  },
  {
   "cell_type": "markdown",
   "metadata": {},
   "source": [
    "**(1) tail을 이용해 끝에서 5개의 데이터를 출력합니다.**"
   ]
  },
  {
   "cell_type": "code",
   "execution_count": null,
   "metadata": {},
   "outputs": [],
   "source": [
    "corona_all.tail()"
   ]
  },
  {
   "cell_type": "markdown",
   "metadata": {},
   "source": [
    "**(2) loc을 활용해 50~60번째의 데이터를 출력합니다.**"
   ]
  },
  {
   "cell_type": "code",
   "execution_count": null,
   "metadata": {
    "scrolled": true
   },
   "outputs": [],
   "source": [
    "corona_all.loc[50:60, :]"
   ]
  },
  {
   "cell_type": "markdown",
   "metadata": {},
   "source": [
    "**(3) loc을 활용해 50~60번째의 접촉력 변수를 출력합니다.**"
   ]
  },
  {
   "cell_type": "code",
   "execution_count": null,
   "metadata": {
    "id": "n_DL99rxwUBo",
    "outputId": "732824cf-c5e1-4f88-9ba7-6dadfc4e081f"
   },
   "outputs": [],
   "source": [
    "# dataframe 정보를 요약하여 출력합니다. \n",
    "corona_all.info()"
   ]
  },
  {
   "cell_type": "markdown",
   "metadata": {
    "id": "jWknASZ2wUBo"
   },
   "source": [
    " "
   ]
  },
  {
   "cell_type": "markdown",
   "metadata": {},
   "source": [
    "---"
   ]
  },
  {
   "cell_type": "markdown",
   "metadata": {
    "id": "0K4t-JjpwUBo"
   },
   "source": [
    "## 2. 데이터 정제"
   ]
  },
  {
   "cell_type": "markdown",
   "metadata": {
    "id": "mQsjxTEFwUBo"
   },
   "source": [
    "데이터를 읽고 확인했다면 결측값(missing data), 이상치(outlier)를 처리하는 데이터 정제 과정을 수행하여 봅시다."
   ]
  },
  {
   "cell_type": "markdown",
   "metadata": {
    "id": "wM4dLaHywUBp"
   },
   "source": [
    "### 2.1. 비어있는 column 지우기"
   ]
  },
  {
   "cell_type": "markdown",
   "metadata": {
    "id": "IlesnjwFwUBp"
   },
   "source": [
    "`corona_all.info()` 코드를 통하여 `국적`, `환자정보`, `조치사항` 에 해당하는 데이터가 존재하지 않는 것을 알 수 있습니다.\n",
    "\n",
    "`dataframe.drop()`를 사용하여 불필요한 `국적`, `환자정보`, `조치사항` 의 column 데이터를 삭제하고 이 dataframe을 `corona_del_col`에 저장해 봅시다."
   ]
  },
  {
   "cell_type": "markdown",
   "metadata": {},
   "source": [
    "**(1) isna()를 이용해 열별로 결측값(NA)을 어떻게 확인할 수 있을까요?**"
   ]
  },
  {
   "cell_type": "code",
   "execution_count": null,
   "metadata": {},
   "outputs": [],
   "source": [
    "corona_all.isna().sum()"
   ]
  },
  {
   "cell_type": "markdown",
   "metadata": {},
   "source": [
    "**(2) isna()를 이용해 열별로 결측값 비율을 어떻게 확인할 수 있을까요?**"
   ]
  },
  {
   "cell_type": "code",
   "execution_count": null,
   "metadata": {},
   "outputs": [],
   "source": [
    "round(corona_all.isna().sum()/len(corona_all),2)"
   ]
  },
  {
   "cell_type": "markdown",
   "metadata": {},
   "source": [
    "**(3) drop 함수를 사용하여 국적, 환자정보, 조치사항, 여행력 coulmn 데이터를 삭제합니다.**"
   ]
  },
  {
   "cell_type": "code",
   "execution_count": null,
   "metadata": {
    "id": "nkiFwimHwUBp",
    "outputId": "f15efddc-58f2-4576-dfbc-f121cd6b917c"
   },
   "outputs": [],
   "source": [
    "# 정제 처리된 dataframe 정보를 출력합니다.\n",
    "corona_del_col = corona_all.drop(columns = ['국적','환자정보','조치사항','여행력'],axis = 1)"
   ]
  },
  {
   "cell_type": "markdown",
   "metadata": {},
   "source": [
    "**(4)결측값이 존재하는 행을 삭제하겠습니다**"
   ]
  },
  {
   "cell_type": "code",
   "execution_count": null,
   "metadata": {},
   "outputs": [],
   "source": [
    "corona_del_col=corona_del_col.dropna()"
   ]
  },
  {
   "cell_type": "markdown",
   "metadata": {},
   "source": [
    "**(5)reset_index를 이용해 인덱싱을 다시 설정해줍니다.**"
   ]
  },
  {
   "cell_type": "code",
   "execution_count": null,
   "metadata": {},
   "outputs": [],
   "source": [
    "corona_del_col=corona_del_col.reset_index(drop=True)"
   ]
  },
  {
   "cell_type": "markdown",
   "metadata": {
    "id": "2CFELljJwUBp"
   },
   "source": [
    "## 3. 데이터 시각화"
   ]
  },
  {
   "cell_type": "markdown",
   "metadata": {
    "id": "J-FS9HekwUBq"
   },
   "source": [
    "데이터 정제를 완료한 `corona_del_col` 데이터를 바탕으로 각 column의 변수별로 어떠한 데이터 분포를 하고 있는지 시각화를 통하여 알아봅시다."
   ]
  },
  {
   "cell_type": "markdown",
   "metadata": {
    "id": "5m2_oHZUwUBq"
   },
   "source": [
    "### 3.1. 확진일 데이터 전처리하기"
   ]
  },
  {
   "cell_type": "markdown",
   "metadata": {
    "id": "N2485-d6wUBq"
   },
   "source": [
    "`확진일` 데이터를 간단히 출력해보면 `월.일` 형태의 날짜 형식임을 알 수 있습니다.\n",
    "\n",
    "월별, 일별 분석을 위해서는 문자열 형식의 데이터를 나누어 숫자 형 데이터로 변환해 보겠습니다."
   ]
  },
  {
   "cell_type": "markdown",
   "metadata": {
    "id": "IajTQUw5wUBq",
    "outputId": "f9f536a6-5e45-493a-f9e6-3673597fff78"
   },
   "source": [
    "**(1) 확진일 데이터를 가져옵니다.**"
   ]
  },
  {
   "cell_type": "code",
   "execution_count": null,
   "metadata": {},
   "outputs": [],
   "source": [
    "corona_del_col['확진일']"
   ]
  },
  {
   "cell_type": "markdown",
   "metadata": {
    "id": "bcO6uQgLwUBq"
   },
   "source": [
    "#### `확진일` 데이터를 `month`, `day` 데이터로 나누기"
   ]
  },
  {
   "cell_type": "markdown",
   "metadata": {
    "id": "QBCA4y3NwUBq"
   },
   "source": [
    "`확진일`에 저장된 문자열 데이터를 나누어 `month`, `day` column에 int64 형태로 저장해 봅시다."
   ]
  },
  {
   "cell_type": "markdown",
   "metadata": {},
   "source": [
    "**(2) for문으로 확진일을 각각 출력해봅니다.**"
   ]
  },
  {
   "cell_type": "code",
   "execution_count": null,
   "metadata": {},
   "outputs": [],
   "source": [
    "for i in corona_del_col['확진일']:\n",
    "    print(i)"
   ]
  },
  {
   "cell_type": "markdown",
   "metadata": {},
   "source": [
    "**(3) split 함수를 이용해서 각각의 확진일을 '월'과 '일'로 분리합니다.**"
   ]
  },
  {
   "cell_type": "code",
   "execution_count": null,
   "metadata": {
    "id": "n08ToZjawUBq"
   },
   "outputs": [],
   "source": [
    "# dataframe에 추가하기 전, 임시로 데이터를 저장해 둘 list를 선언합니다.\n",
    "month = []\n",
    "day = []\n",
    "\n",
    "for data in corona_del_col['확진일']:\n",
    "    # split 함수를사용하여 월, 일을 나누어 list에 저장합니다.\n",
    "    month.append(data.split('.')[0])\n",
    "    day.append(data.split('.')[1])"
   ]
  },
  {
   "cell_type": "markdown",
   "metadata": {
    "id": "eb2aZuVKwUBq",
    "outputId": "47c18f65-2fd8-47d8-f4f0-5069bcba5886",
    "scrolled": true
   },
   "source": [
    "**(4) corona_del_col에 `month`, `day` column을 생성하며 동시에 list에 임시 저장된 데이터를 입력합니다.**"
   ]
  },
  {
   "cell_type": "code",
   "execution_count": null,
   "metadata": {},
   "outputs": [],
   "source": [
    "#데이터 형식이 'string' 문자열이기 때문에 'int64'로 변경할 수 있습니다.\n",
    "corona_del_col['month']=month\n",
    "corona_del_col['day']=day\n",
    "\n",
    "corona_del_col['month']=corona_del_col['month'].astype('int64')\n",
    "corona_del_col['day']=corona_del_col['day'].astype('int64')"
   ]
  },
  {
   "cell_type": "markdown",
   "metadata": {},
   "source": [
    "**(5) 이제 확진일을 월과 일로 변경하였습니다.\n",
    "따라서 확진일이라는 변수는 필요없겠죠?\n",
    "drop을 이용해서 변수를 삭제하겠습니다.**"
   ]
  },
  {
   "cell_type": "code",
   "execution_count": null,
   "metadata": {},
   "outputs": [],
   "source": [
    "corona_del_col=corona_del_col.drop(['확진일'],axis=1)"
   ]
  },
  {
   "cell_type": "markdown",
   "metadata": {
    "id": "uA8fZJAuwUBr"
   },
   "source": [
    "### 3.2. 월별 확진자 수 출력"
   ]
  },
  {
   "cell_type": "markdown",
   "metadata": {
    "id": "jrFFhoc0wUBr"
   },
   "source": [
    "나누어진 `month`의 데이터를 바탕으로 달별 확진자 수를 막대그래프로 출력해 보겠습니다."
   ]
  },
  {
   "cell_type": "markdown",
   "metadata": {},
   "source": [
    "**(1) value_counts()는 각 데이터를 세어서 내림차순으로 정리하는 함수입니다.\n",
    "value_counts()를 활용해 'month'의 빈도수를 내림차순으로 출력해봅시다.**"
   ]
  },
  {
   "cell_type": "code",
   "execution_count": null,
   "metadata": {},
   "outputs": [],
   "source": [
    "corona_del_col['month'].value_counts(ascending=False)"
   ]
  },
  {
   "cell_type": "markdown",
   "metadata": {},
   "source": [
    "**(2)월별 확진자 수 그래프를 그려봅시다.**"
   ]
  },
  {
   "cell_type": "code",
   "execution_count": null,
   "metadata": {
    "id": "ewZc1bpQwUBr",
    "outputId": "87724819-7be4-4cfa-8475-285ef41aa0c1"
   },
   "outputs": [],
   "source": [
    "#X축을 설정해줍니다.\n",
    "order1 = []\n",
    "for i in range(1,11):\n",
    "    order1.append(i)\n",
    "order1"
   ]
  },
  {
   "cell_type": "code",
   "execution_count": null,
   "metadata": {
    "id": "N6hC5IH5wUBr",
    "outputId": "1646539d-b01f-47bd-e51c-cff1625f50ea",
    "scrolled": true
   },
   "outputs": [],
   "source": [
    "# 그래프의 사이즈를 조절합니다.\n",
    "plt.figure(figsize=(10,5))\n",
    "\n",
    "# seaborn의 countplot 함수를 사용하여 출력합니다.\n",
    "sns.set(style=\"darkgrid\")\n",
    "ax = sns.countplot(x=\"month\", data=corona_del_col, palette=\"Set2\", order = order1)"
   ]
  },
  {
   "cell_type": "code",
   "execution_count": null,
   "metadata": {
    "id": "xNTb9pqxwUBr",
    "outputId": "e347dbd9-d1bd-4662-bf11-3ba2807b5a14"
   },
   "outputs": [],
   "source": [
    "# series의 plot 함수를 사용한 출력 방법도 있습니다.\n",
    "corona_del_col['month'].value_counts().plot(kind='bar') #line도 가능"
   ]
  },
  {
   "cell_type": "markdown",
   "metadata": {
    "id": "0_jqBxOfwUBs"
   },
   "source": [
    " "
   ]
  },
  {
   "cell_type": "markdown",
   "metadata": {
    "id": "-Pny9-f0wUBs"
   },
   "source": [
    "### 3.3. 8월달 일별 확진자 수 출력"
   ]
  },
  {
   "cell_type": "markdown",
   "metadata": {
    "id": "dwBFEmHPwUBs"
   },
   "source": [
    "월별 확진자 수를 출력해보면 알 수 있듯이 8월에 확진자 수가 가장 많았습니다.\n",
    "\n",
    "이번엔 8월 동안 확진자 수가 어떻게 늘었는지 일별 확진자 수를 막대그래프로 출력해 봅시다."
   ]
  },
  {
   "cell_type": "code",
   "execution_count": null,
   "metadata": {
    "id": "1JuAxzYNwUBs",
    "outputId": "9d9b780a-627e-4a19-db18-48080486a64c",
    "scrolled": true
   },
   "outputs": [],
   "source": [
    "# 그래프에서 x축의 순서를 정리하기 위하여 order list를 생성합니다.\n",
    "order2 = []\n",
    "for i in range(1,32):    \n",
    "    order2.append(i)\n",
    "order2"
   ]
  },
  {
   "cell_type": "markdown",
   "metadata": {
    "scrolled": true
   },
   "source": [
    "**(1) 이를 그래프로 출력하기 위해서 8월달의 환자 목록을 데이터 프레임 형태로 나타냅시다.**"
   ]
  },
  {
   "cell_type": "code",
   "execution_count": null,
   "metadata": {},
   "outputs": [],
   "source": [
    "corona_del_col[corona_del_col['month']==8]"
   ]
  },
  {
   "cell_type": "markdown",
   "metadata": {
    "scrolled": true
   },
   "source": [
    "**(2) 8월달의 일별 확진자 수를 그래프로 나타냅시다.**"
   ]
  },
  {
   "cell_type": "code",
   "execution_count": null,
   "metadata": {
    "id": "vGX6fdK_wUBs",
    "outputId": "459f9310-c324-4cc1-ac40-5c5e3fbdda85"
   },
   "outputs": [],
   "source": [
    "# seaborn의 countplot 함수를 사용하여 출력합니다.\n",
    "plt.figure(figsize=(20,10))\n",
    "sns.set(style=\"darkgrid\")\n",
    "ax = sns.countplot(x=\"day\", data=corona_del_col[corona_del_col['month'] == 8], palette=\"Set2\", order = order2)"
   ]
  },
  {
   "cell_type": "markdown",
   "metadata": {
    "id": "1Xn302wvwUBt"
   },
   "source": [
    "#### 퀴즈 1. 8월 평균 일별 확진자 수를 구하세요. (8월 총 확진자/31일)"
   ]
  },
  {
   "cell_type": "code",
   "execution_count": null,
   "metadata": {
    "id": "DVpI2nEOwUBt"
   },
   "outputs": [],
   "source": [
    "#hint: 전체 데이터 개수를 구하는 len() 함수와 8월인 데이터만을 추출하는 조건문을 이용합니다."
   ]
  },
  {
   "cell_type": "code",
   "execution_count": null,
   "metadata": {
    "id": "xL0MnBL9wUBt"
   },
   "outputs": [],
   "source": [
    "# 8월 평균 확진자 수를 구하여 quiz_1 변수에 저장합니다.\n",
    "# float 형 상수값으로 저장합니다.(float 함수 사용하기)\n",
    "\n",
    "#데이터가 틀려서 틀린 답이 나올 수 밖에 없음\n",
    "quiz_1 = None"
   ]
  },
  {
   "cell_type": "markdown",
   "metadata": {
    "id": "aw4hNYmOwUBt"
   },
   "source": [
    " "
   ]
  },
  {
   "cell_type": "markdown",
   "metadata": {
    "id": "CFeexAklwUBt"
   },
   "source": [
    "### 3.4. 지역별 확진자 수 출력"
   ]
  },
  {
   "cell_type": "markdown",
   "metadata": {
    "id": "lfcwtG2vwUBt"
   },
   "source": [
    "`지역` 데이터를 간단히 출력해보면 `oo구` 형태의 문자열 데이터임을 알 수 있습니다."
   ]
  },
  {
   "cell_type": "markdown",
   "metadata": {
    "id": "GWM87FcSwUBt",
    "outputId": "bc1032f9-5c90-4c6a-f47f-423b2db72076"
   },
   "source": [
    "**(1) 전체 데이터에서 '지역' 데이터를 출력해봅시다.**"
   ]
  },
  {
   "cell_type": "code",
   "execution_count": null,
   "metadata": {},
   "outputs": [],
   "source": [
    "corona_del_col['지역'].value_counts()"
   ]
  },
  {
   "cell_type": "markdown",
   "metadata": {
    "id": "tM5mk2V9wUBu"
   },
   "source": [
    "**(2) 이번에는 지역별로 확진자가 얼마나 있는지 막대그래프로 출력해 봅시다.**"
   ]
  },
  {
   "cell_type": "code",
   "execution_count": null,
   "metadata": {},
   "outputs": [],
   "source": [
    "import matplotlib.font_manager as fm\n",
    "\n",
    "font_dirs = ['/usr/share/fonts/truetype/nanum', ]\n",
    "font_files = fm.findSystemFonts(fontpaths=font_dirs)\n",
    "\n",
    "for font_file in font_files:\n",
    "    fm.fontManager.addfont(font_file)"
   ]
  },
  {
   "cell_type": "code",
   "execution_count": null,
   "metadata": {
    "id": "_UOI_lbowUBu",
    "outputId": "d11d5768-1697-4648-cb6e-c5f088dbc2e0"
   },
   "outputs": [],
   "source": [
    "plt.figure(figsize=(20,10))\n",
    "# 한글 출력을 위해서 폰트 옵션을 설정합니다.\n",
    "sns.set(font=\"NanumBarunGothic\", \n",
    "        rc={\"axes.unicode_minus\":False},#그래프에서 마이너스 기호가 깨지지 않도록 방지하는 코드이다.\n",
    "        style='darkgrid')\n",
    "ax = sns.countplot(x=\"지역\", data=corona_del_col, palette=\"Set2\")"
   ]
  },
  {
   "cell_type": "markdown",
   "metadata": {
    "id": "yLDr9FcOwUBu"
   },
   "source": [
    " "
   ]
  },
  {
   "cell_type": "markdown",
   "metadata": {
    "id": "9j_M6JPKwUBw"
   },
   "source": [
    "#### 지역 이상치 데이터 처리"
   ]
  },
  {
   "cell_type": "markdown",
   "metadata": {
    "id": "7PTWWj38wUBw"
   },
   "source": [
    "위의 출력된 데이터를 보면 `한국`이라는 지역과는 맞지 않는 데이터가 있음을 알 수 있습니다.\n",
    "\n",
    "기존 지역 데이터 특성에 맞도록 `한국` -> `기타`로 데이터를 변경해 봅시다."
   ]
  },
  {
   "cell_type": "markdown",
   "metadata": {},
   "source": [
    "**(1) 지역이 '한국'인 데이터를 출력합니다.**"
   ]
  },
  {
   "cell_type": "code",
   "execution_count": null,
   "metadata": {},
   "outputs": [],
   "source": [
    "corona_del_col[corona_del_col['지역']=='한국']"
   ]
  },
  {
   "cell_type": "markdown",
   "metadata": {},
   "source": [
    "**(1.1) '한국'을 '기타로 변경합니다.'**"
   ]
  },
  {
   "cell_type": "code",
   "execution_count": null,
   "metadata": {
    "id": "3cGiPownwUBx"
   },
   "outputs": [],
   "source": [
    "corona_out_region = corona_del_col.replace({'한국':'기타'})"
   ]
  },
  {
   "cell_type": "markdown",
   "metadata": {},
   "source": [
    "**(2) 만약에 전체 데이터에서 지역이 '기타'인 경우를 제외하고 싶다면? 어떻게 할까요?**"
   ]
  },
  {
   "cell_type": "code",
   "execution_count": null,
   "metadata": {},
   "outputs": [],
   "source": [
    "dd=corona_out_region[corona_out_region['지역']!='기타']"
   ]
  },
  {
   "cell_type": "markdown",
   "metadata": {},
   "source": [
    "**(3) reset_index()를 이용해 인덱스 설정을 다시 해줍니다.**"
   ]
  },
  {
   "cell_type": "code",
   "execution_count": null,
   "metadata": {},
   "outputs": [],
   "source": [
    "dd=dd.reset_index(drop=True)"
   ]
  },
  {
   "cell_type": "markdown",
   "metadata": {},
   "source": [
    "**(4) 그래프를 그려봅니다.**"
   ]
  },
  {
   "cell_type": "code",
   "execution_count": null,
   "metadata": {},
   "outputs": [],
   "source": [
    "#'기타'가 없어진 것을 알 수 있습니다.\n",
    "plt.figure(figsize=(20,10))\n",
    "sns.set(font=\"NanumBarunGothic\", \n",
    "        rc={\"axes.unicode_minus\":False},#마이너스가 그대로 표시될 수 있는 옵션입니다.\n",
    "        style='darkgrid') #배경화면의 색깔을 의미합니다.\n",
    "ax = sns.countplot(x=\"지역\", data=dd, palette=\"Set2\")"
   ]
  },
  {
   "cell_type": "code",
   "execution_count": null,
   "metadata": {
    "id": "gG0doFrywUBx",
    "outputId": "6774ab19-05dc-4f6e-e66c-9359a97289d0"
   },
   "outputs": [],
   "source": [
    "# 이상치가 처리된 데이터를 다시 출력해 봅시다.\n",
    "plt.figure(figsize=(20,10))\n",
    "sns.set(font=\"NanumBarunGothic\", \n",
    "        rc={\"axes.unicode_minus\":False},#마이너스가 그대로 표시될 수 있는 옵션입니다.\n",
    "        style='darkgrid') #배경화면의 색깔을 의미합니다.\n",
    "ax = sns.countplot(x=\"지역\", data=corona_out_region, palette=\"Set2\")"
   ]
  },
  {
   "cell_type": "markdown",
   "metadata": {
    "id": "vXpCuwcCwUBx"
   },
   "source": [
    " "
   ]
  },
  {
   "cell_type": "markdown",
   "metadata": {
    "id": "Xiy8Sry7wUBx"
   },
   "source": [
    "### 3.5. 8월달 지역별 확진자 수 출력"
   ]
  },
  {
   "cell_type": "markdown",
   "metadata": {
    "id": "dITR9gJQwUBy"
   },
   "source": [
    "감염자가 많았던 8월에는 지역별로 확진자가 어떻게 분포되어 있는지 막대그래프로 출력해 봅시다."
   ]
  },
  {
   "cell_type": "markdown",
   "metadata": {
    "id": "TaCI1HOPwUBy",
    "outputId": "e661da38-c738-408f-966f-ac31f5826193"
   },
   "source": [
    "**(1) month가 8 즉, 8월인 데이터를 출력해봅시다.**"
   ]
  },
  {
   "cell_type": "code",
   "execution_count": null,
   "metadata": {},
   "outputs": [],
   "source": [
    "corona_del_col[corona_del_col['month']==8]"
   ]
  },
  {
   "cell_type": "markdown",
   "metadata": {},
   "source": [
    "**(2) 8월의 지역별 확진자수를 그래프로 그려봅니다.**"
   ]
  },
  {
   "cell_type": "code",
   "execution_count": null,
   "metadata": {
    "id": "eeKACONSwUBy",
    "outputId": "e20eed3e-6f6e-4637-ad48-e700e4651b71",
    "scrolled": true
   },
   "outputs": [],
   "source": [
    "# 그래프를 출력합니다.\n",
    "plt.figure(figsize=(20,10))\n",
    "sns.set(font=\"NanumBarunGothic\", \n",
    "        rc={\"axes.unicode_minus\":False},\n",
    "        style='darkgrid')\n",
    "ax = sns.countplot(x=\"지역\", data=corona_out_region[corona_out_region['month'] == 3], palette=\"Set2\")"
   ]
  },
  {
   "cell_type": "markdown",
   "metadata": {},
   "source": [
    "**퀴즈! 3월인 경우, 지역별 확진자수 데이터를 그래프로 나타내봅시다.**"
   ]
  },
  {
   "cell_type": "code",
   "execution_count": null,
   "metadata": {},
   "outputs": [],
   "source": [
    "'month'==3\n",
    "countplot 사용\n"
   ]
  },
  {
   "cell_type": "markdown",
   "metadata": {
    "id": "VKkTYUv9wUBy"
   },
   "source": [
    " "
   ]
  },
  {
   "cell_type": "markdown",
   "metadata": {
    "id": "TbEsAOn8wUBy"
   },
   "source": [
    "### 3.6. 월별 관악구 확진자 수 출력"
   ]
  },
  {
   "cell_type": "markdown",
   "metadata": {
    "id": "6ZyLQka_wUBy"
   },
   "source": [
    "이번에는 확진자가 가장 많았던 관악구 내의 확진자 수가 월별로 어떻게 증가했는지 그 분포를 막대그래프로 출력해 봅시다."
   ]
  },
  {
   "cell_type": "markdown",
   "metadata": {
    "id": "zWMpX2BDwUBy",
    "outputId": "5e5556eb-6271-4045-bcfa-a1b892f4f6ba"
   },
   "source": [
    "**(1) 지역이 '관악구'인 데이터를 출력해봅시다.**"
   ]
  },
  {
   "cell_type": "code",
   "execution_count": null,
   "metadata": {},
   "outputs": [],
   "source": [
    "corona_del_col[corona_del_col['지역']=='관악구']"
   ]
  },
  {
   "cell_type": "markdown",
   "metadata": {},
   "source": [
    "**(2) 지역이 관악구인 경우 월별 확진자수를 그래프로 나타내봅시다.**"
   ]
  },
  {
   "cell_type": "code",
   "execution_count": null,
   "metadata": {
    "id": "MCn-1F5twUBy",
    "outputId": "65b47f2e-85ef-40b6-a202-d72f6712b4c2",
    "scrolled": true
   },
   "outputs": [],
   "source": [
    "# 그래프를 출력합니다.\n",
    "plt.figure(figsize=(10,5))\n",
    "sns.set(style=\"darkgrid\")\n",
    "ax = sns.countplot(x=\"month\", data=corona_out_region[corona_out_region['지역'] == '관악구'], palette=\"Set2\")"
   ]
  },
  {
   "cell_type": "markdown",
   "metadata": {},
   "source": [
    "**퀴즈! 지역이 '강서구'인 경우 월별 확진자수를 그래프로 표현해봅시다.**"
   ]
  },
  {
   "cell_type": "markdown",
   "metadata": {
    "id": "v-S2hQ9uwUBz"
   },
   "source": [
    " "
   ]
  },
  {
   "cell_type": "markdown",
   "metadata": {
    "id": "HXT25c3uwUBz"
   },
   "source": [
    "### 3.7. 서울 지역에서 확진자를 지도에 출력"
   ]
  },
  {
   "cell_type": "markdown",
   "metadata": {
    "id": "DhdbiSYSwUBz"
   },
   "source": [
    "지도를 출력하기 위한 라이브러리로 folium을 사용해 봅시다."
   ]
  },
  {
   "cell_type": "code",
   "execution_count": null,
   "metadata": {
    "id": "DWiCNqELwUBz",
    "outputId": "92a4af0b-2ca7-43db-8e29-6557ee7cf568"
   },
   "outputs": [],
   "source": [
    "# 지도 출력을 위한 라이브러리 folium을 import 합니다.\n",
    "import folium\n",
    "\n",
    "# Map 함수를 사용하여 지도를 출력합니다.\n",
    "map_osm = folium.Map(location=[37.529622, 126.984307], zoom_start=11) #기본 좌표를 설정합니다.\n",
    "\n",
    "map_osm"
   ]
  },
  {
   "cell_type": "markdown",
   "metadata": {
    "id": "3MDmffxXwUBz"
   },
   "source": [
    "지역마다 지도에 정보를 출력하기 위해서는 각 지역의 좌표정보가 필요합니다.\n",
    "\n",
    "이를 해결하기 위해서 서울시 행정구역 시군 정보 데이터를 불러와 사용합니다.\n",
    "\n",
    "데이터 출처: https://data.seoul.go.kr/dataList/OA-11677/S/1/datasetView.do"
   ]
  },
  {
   "cell_type": "code",
   "execution_count": null,
   "metadata": {
    "id": "MuZkeSSSwUBz"
   },
   "outputs": [],
   "source": [
    "# CRS에 저장합니다.\n",
    "CRS=pd.read_csv(\"./data/서울시 행정구역 시군구 정보 (좌표계_ WGS1984).csv\")"
   ]
  },
  {
   "cell_type": "code",
   "execution_count": null,
   "metadata": {
    "id": "TVlpXDk0wUBz",
    "outputId": "26ff1edf-3113-45b8-f831-e70dbafc5892",
    "scrolled": true
   },
   "outputs": [],
   "source": [
    "# Dataframe을 출력해 봅니다.\n",
    "CRS"
   ]
  },
  {
   "cell_type": "markdown",
   "metadata": {},
   "source": [
    "(1) 퀴즈! 저장된 데이터에서 지역명이 `중구`인 데이터를 뽑아봅시다."
   ]
  },
  {
   "cell_type": "markdown",
   "metadata": {
    "id": "jaDomFWdwUB0"
   },
   "source": [
    " "
   ]
  },
  {
   "cell_type": "markdown",
   "metadata": {
    "id": "S91ipBBnwUB0"
   },
   "source": [
    "이제 for 문을 사용하여 지역마다 확진자를 원형 마커를 사용하여 지도에 출력해 봅시다."
   ]
  },
  {
   "cell_type": "code",
   "execution_count": null,
   "metadata": {
    "id": "gzf2yKxHwUB0",
    "outputId": "169cbfe8-7878-41d4-e7cf-018d00151cfb",
    "scrolled": false
   },
   "outputs": [],
   "source": [
    "# corona_out_region의 지역에는 'oo구' 이외로 `타시도`, `기타`에 해당되는 데이터가 존재 합니다.\n",
    "# 위 데이터에 해당되는 위도, 경도를 찾을 수 없기에 삭제하여 corona_seoul로 저장합니다.\n",
    "corona_seoul=corona_out_region[corona_out_region['지역']!='타시도']\n",
    "corona_seoul=corona_seoul[corona_seoul['지역']!='기타']"
   ]
  },
  {
   "cell_type": "code",
   "execution_count": null,
   "metadata": {},
   "outputs": [],
   "source": [
    "corona_seoul"
   ]
  },
  {
   "cell_type": "code",
   "execution_count": null,
   "metadata": {},
   "outputs": [],
   "source": [
    "# 서울 중심지 중구를 가운데 좌표로 잡아 지도를 출력합니다.\n",
    "map_osm = folium.Map(location=[37.557945, 126.99419], zoom_start=11)\n",
    "\n",
    "# 지역 정보를 set 함수를 사용하여 25개 고유의 지역을 뽑아냅니다.\n",
    "for region in set(corona_seoul['지역']):\n",
    "\n",
    "    # 해당 지역의 데이터 개수를 count에 저장합니다.\n",
    "    count = len(corona_seoul[corona_seoul['지역'] == region])\n",
    "    # 해당 지역의 데이터를 CRS에서 뽑아냅니다.\n",
    "    CRS_region = CRS[CRS['시군구명_한글'] == region]\n",
    "\n",
    "    # CircleMarker를 사용하여 지역마다 원형마커를 생성합니다.\n",
    "    marker = folium.CircleMarker([CRS_region['위도'], CRS_region['경도']], # 위치\n",
    "                                  radius=count/10 + 10,                 # 범위\n",
    "                                  color='#3186cc',            # 선 색상\n",
    "                                  fill_color='#3186cc',       # 면 색상\n",
    "                                  popup=' '.join((region, str(count), '명'))) # 팝업 설정\n",
    "    \n",
    "    # 생성한 원형마커를 지도에 추가합니다.\n",
    "    marker.add_to(map_osm)\n",
    "\n",
    "map_osm"
   ]
  },
  {
   "cell_type": "markdown",
   "metadata": {
    "id": "vEHBzAfGwUB0"
   },
   "source": [
    "#### 퀴즈 2. 6월에 확진자가 가장 많이 나온 지역을 구하세요."
   ]
  },
  {
   "cell_type": "code",
   "execution_count": null,
   "metadata": {},
   "outputs": [],
   "source": [
    "#힌트: 조건문으로 6월인 데이터를 뽑아낸 후, value_counts()를 이용합니다.\n",
    "#데이터가 틀려서 퀴즈랑 답이 다름!"
   ]
  },
  {
   "cell_type": "code",
   "execution_count": null,
   "metadata": {
    "id": "_uuqYSbbwUB1"
   },
   "outputs": [],
   "source": [
    "# 6월에 확진자가 가장 많이 나온 지역을 구하여 quiz_2 변수에 저장합니다.\n",
    "# 문자형으로 저장합니다.\n",
    "quiz_2 = None"
   ]
  },
  {
   "cell_type": "markdown",
   "metadata": {
    "id": "Ox1MnSSlwUB1"
   },
   "source": [
    " ---"
   ]
  },
  {
   "cell_type": "markdown",
   "metadata": {},
   "source": [
    "## 제출하기"
   ]
  },
  {
   "cell_type": "markdown",
   "metadata": {
    "id": "Ap5bme4lwUB6"
   },
   "source": [
    "퀴즈 1번과 2번을 수행 후, 아래 코드를 실행하면 `quiz_1 ~ 2` 변수가 저장된 csv 파일을 제작하여 채점을 받을 수 있습니다.\n",
    "\n",
    "**아래 코드를 수정하면 채점이 불가능 합니다.**"
   ]
  },
  {
   "cell_type": "code",
   "execution_count": null,
   "metadata": {
    "id": "vmZlhpYswUB6"
   },
   "outputs": [],
   "source": [
    "d = {'quiz_1': [quiz_1], 'quiz_2': [quiz_2]}\n",
    "df_quiz = pd.DataFrame(data=d)\n",
    "df_quiz.to_csv(\"submission.csv\",index=False)"
   ]
  },
  {
   "cell_type": "code",
   "execution_count": null,
   "metadata": {
    "id": "HcXrU3o_wUB6",
    "outputId": "09b24a88-2f17-4c8c-bdc7-46eb08ffcc8e"
   },
   "outputs": [],
   "source": [
    "answer=pd.read_csv('submission.csv')\n",
    "answer.loc[0]['quiz_2']"
   ]
  },
  {
   "cell_type": "code",
   "execution_count": null,
   "metadata": {
    "id": "0v7iDWm-wUB6"
   },
   "outputs": [],
   "source": [
    "# 채점을 수행하기 위하여 로그인\n",
    "import sys\n",
    "sys.path.append('vendor')\n",
    "from elice_challenge import check_score, upload"
   ]
  },
  {
   "cell_type": "code",
   "execution_count": null,
   "metadata": {
    "id": "SivU2PCvwUB7"
   },
   "outputs": [],
   "source": [
    "# 제출 파일 업로드\n",
    "await upload()"
   ]
  },
  {
   "cell_type": "code",
   "execution_count": null,
   "metadata": {
    "id": "HrkNJwvVwUB7"
   },
   "outputs": [],
   "source": [
    "# 채점 수행\n",
    "await check_score()"
   ]
  },
  {
   "cell_type": "markdown",
   "metadata": {
    "id": "ftNAFdz7wUB7"
   },
   "source": [
    "---"
   ]
  },
  {
   "cell_type": "markdown",
   "metadata": {
    "id": "vqQPeXc_wUB7"
   },
   "source": [
    "<span style=\"color:rgb(120, 120, 120)\">본 학습 자료를 포함한 사이트 내 모든 자료의 저작권은 엘리스에 있으며 외부로의 무단 복제, 배포 및 전송을 불허합니다.\n",
    "\n",
    "Copyright @ elice all rights reserved</span>"
   ]
  }
 ],
 "metadata": {
  "colab": {
   "name": "[p1] 코로나 데이터 분석 프로젝트-정답.ipynb",
   "provenance": []
  },
  "kernelspec": {
   "display_name": "Python 3",
   "language": "python",
   "name": "python3"
  },
  "language_info": {
   "codemirror_mode": {
    "name": "ipython",
    "version": 3
   },
   "file_extension": ".py",
   "mimetype": "text/x-python",
   "name": "python",
   "nbconvert_exporter": "python",
   "pygments_lexer": "ipython3",
   "version": "3.8.6"
  },
  "toc": {
   "base_numbering": 1,
   "nav_menu": {},
   "number_sections": false,
   "sideBar": true,
   "skip_h1_title": false,
   "title_cell": "Table of Contents",
   "title_sidebar": "Contents",
   "toc_cell": false,
   "toc_position": {
    "height": "calc(100% - 180px)",
    "left": "10px",
    "top": "150px",
    "width": "307.2px"
   },
   "toc_section_display": true,
   "toc_window_display": true
  }
 },
 "nbformat": 4,
 "nbformat_minor": 1
}
