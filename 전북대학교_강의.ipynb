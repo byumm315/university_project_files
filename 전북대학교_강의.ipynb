{
  "nbformat": 4,
  "nbformat_minor": 0,
  "metadata": {
    "colab": {
      "provenance": [],
      "toc_visible": true
    },
    "kernelspec": {
      "name": "python3",
      "display_name": "Python 3"
    },
    "language_info": {
      "name": "python"
    }
  },
  "cells": [
    {
      "cell_type": "markdown",
      "source": [
        "#회귀분석"
      ],
      "metadata": {
        "id": "vGcbJNqObwZ4"
      }
    },
    {
      "cell_type": "markdown",
      "source": [
        "##회귀개념 알아보기"
      ],
      "metadata": {
        "id": "2pNIhv8bbsI4"
      }
    },
    {
      "cell_type": "code",
      "source": [
        "import numpy as np\n",
        "import matplotlib.pyplot as plt"
      ],
      "metadata": {
        "id": "qO80Iq0FLC0b"
      },
      "execution_count": null,
      "outputs": []
    },
    {
      "cell_type": "code",
      "execution_count": null,
      "metadata": {
        "id": "fvSLYMJ4UFXL"
      },
      "outputs": [],
      "source": [
        "# 데이터를 생성하고 반환하는 함수입니다.\n",
        "def load_data():    \n",
        "    X = np.array([[8.70153760], [3.90825773], [1.89362433], [3.28730045], [7.39333004], [2.98984649], [2.25757240], [9.84450732], [9.94589513], [5.48321616]])\n",
        "    y = np.array([[5.64413093], [3.75876583], [3.87233310], [4.40990425], [6.43845020], [4.02827829], [2.26105955], [7.15768995], [6.29097441], [5.19692852]])\n",
        "    return X, y"
      ]
    },
    {
      "cell_type": "code",
      "source": [
        "#데이터의 분포(퍼진 정도)를 시각화하는 함수입니다.\n",
        "X,y=load_data()\n",
        "fig=plt.figure()\n",
        "plt.scatter(X,y)"
      ],
      "metadata": {
        "id": "AXCRriH7KspF"
      },
      "execution_count": null,
      "outputs": []
    },
    {
      "cell_type": "code",
      "source": [
        "#예측하고자 하는 값을 반환하는 함수입니다.\n",
        "def prediction(beta_0, beta_1, X):\n",
        "    y_pred = beta_0+beta_1*X\n",
        "    return y_pred"
      ],
      "metadata": {
        "id": "cdr9Lpsxb0fx"
      },
      "execution_count": null,
      "outputs": []
    },
    {
      "cell_type": "code",
      "source": [
        "#예를 들어보겠습니다.\n",
        "beta_0=1\n",
        "beta_1=4\n",
        "X=load_data()[0]"
      ],
      "metadata": {
        "id": "FLg8n89sK27K"
      },
      "execution_count": null,
      "outputs": []
    },
    {
      "cell_type": "code",
      "source": [
        "#회귀식 Y=4X+1이 되고, 이 식에 X를 넣었을때 예측한 값이 출력됩니다.\n",
        "pred=prediction(beta_0,beta_1,X)\n",
        "print(pred)"
      ],
      "metadata": {
        "id": "HPeecKNwLQHN"
      },
      "execution_count": null,
      "outputs": []
    },
    {
      "cell_type": "code",
      "source": [
        "#회귀직선(Y=4X+1)과 실제 데이터 분포를 시각화하겠습니다.\n",
        "fig=plt.figure()\n",
        "plt.scatter(X,y)\n",
        "plt.plot(X,pred,c='r')\n",
        "#회귀직선이 전혀 데이터 분포를 따라가지 못하는 것을 알 수 있습니다."
      ],
      "metadata": {
        "id": "f_3OK8Dyuppg"
      },
      "execution_count": null,
      "outputs": []
    },
    {
      "cell_type": "code",
      "source": [
        "#그래프를 시각화하는 함수입니다.\n",
        "#이 함수를 응용하면 회귀계수 (beta_0, beta_1)을 업데이트하면서 변화하는 회귀직선을 확인할 수 있습니다.\n",
        "def plotting_graph(X,y,beta_0,beta_1):    \n",
        "    y_pred = beta_0 + beta_1[0,0] * X\n",
        "    fig = plt.figure()\n",
        "    plt.scatter(X, y)\n",
        "    plt.plot(X, y_pred,c='r')    \n",
        "    plt.savefig(\"test.png\")"
      ],
      "metadata": {
        "id": "wrqkzKdTeQwX"
      },
      "execution_count": null,
      "outputs": []
    },
    {
      "cell_type": "code",
      "source": [
        "# beta_0과 beta_1 값을 업데이트 하는 규칙을 정의하는 함수입니다.\n",
        "def update_beta(X, y, y_pred, lr): \n",
        "    #lr은 learning rate로 얼만큼의 간격으로 beta_0, beta_1을 업데이트할지 결정합니다.   \n",
        "    #예를 들면, lr이 낮으면 beta_0,beta_1은 조금씩 업데이트가 되고, 높으면 한번에 많이 업데이트됩니다. \n",
        "    delta_0 = -(lr * (2 / len(X)) * np.sum(y - y_pred))\n",
        "    delta_1 = -(lr * (2 / len(X)) * (np.dot(X.T, (y - y_pred))))\n",
        "    #beta_0과 beta_1에 delta_0과 delta_1을 빼서 beta_0과 beta_1을 업데이트 시킬 것입니다.\n",
        "    return delta_0, delta_1"
      ],
      "metadata": {
        "id": "5FEWOH1Gct9w"
      },
      "execution_count": null,
      "outputs": []
    },
    {
      "cell_type": "code",
      "source": [
        "def gradient_descent(X, y, iters, lr):\n",
        "    \n",
        "    beta_0 = np.zeros((1,1)) #0값을 의미합니다.\n",
        "    beta_1 = np.zeros((1,1)) #0값을 의미합니다.\n",
        "    \n",
        "    for i in range(iters): #iters만큼 반복하는 식을 의미합니다.\n",
        "        \n",
        "        y_pred = prediction(beta_0,beta_1,X) #회귀식으로 예측한 값이 y_pred가 됩니다.\n",
        "        loss = np.mean(np.square(y - y_pred)) #RSS(잔차의 제곱합)를 구합니다. \n",
        "        \n",
        "        beta0_delta, beta1_delta = update_beta(X,y,y_pred,lr) #잔차에서 비롯된 식으로, 회귀계수들(beta_0,beta_1)을 업데이트합니다.\n",
        "        \n",
        "        beta_0=beta_0-beta0_delta \n",
        "        beta_1=beta_1-beta1_delta \n",
        "\n",
        "        #회귀직선을 100번째로 생성할때마다 그래프를 보여줍니다.\n",
        "        if i%100==0:\n",
        "            print(\"학습 횟수 :\",i)\n",
        "            plotting_graph(X,y,beta_0,beta_1)\n",
        "            print(beta_0[0],beta_1[0]) #beta_0,beta_1 역시 보여줍니다.\n",
        "    return beta_0, beta_1"
      ],
      "metadata": {
        "id": "nS5ly--QuSOa"
      },
      "execution_count": null,
      "outputs": []
    },
    {
      "cell_type": "code",
      "source": [
        "#이제 gradient_descent 함수를 구현해봅시다.\n",
        "#먼저 X와 y를 정의합니다.\n",
        "X=load_data()[0]\n",
        "y=load_data()[1]"
      ],
      "metadata": {
        "id": "b6ubl0rhcMGX"
      },
      "execution_count": null,
      "outputs": []
    },
    {
      "cell_type": "code",
      "source": [
        "#X와 y를 출력하면 다음과 같습니다.\n",
        "print(X)\n",
        "print(y)"
      ],
      "metadata": {
        "id": "PRWi8wM6uXE2"
      },
      "execution_count": null,
      "outputs": []
    },
    {
      "cell_type": "code",
      "source": [
        "#lr(learning rate)와 iters(반복횟수)를 정의합니다.\n",
        "lr = 1e-4\n",
        "iters = 1000    "
      ],
      "metadata": {
        "id": "79SifH0AuaFR"
      },
      "execution_count": null,
      "outputs": []
    },
    {
      "cell_type": "code",
      "source": [
        "gradient_descent(X,y,iters,lr)"
      ],
      "metadata": {
        "id": "FxCZhWlZNCQ8"
      },
      "execution_count": null,
      "outputs": []
    },
    {
      "cell_type": "markdown",
      "source": [
        "##단순선형회귀"
      ],
      "metadata": {
        "id": "gMgsmBvKe4TF"
      }
    },
    {
      "cell_type": "code",
      "source": [
        "#그래프를 그리는 모듈을 불러옵니다.\n",
        "import matplotlib.pyplot as plt\n",
        "#수식 연산을 도와주는 모듈을 불러옵니다.\n",
        "import numpy as np\n",
        "# 데이터를 분리하는 모듈을 불러옵니다.\n",
        "from sklearn.model_selection import train_test_split\n",
        "# 사이킷런에 구현되어 있는 회귀 모델을 불러옵니다.\n",
        "from sklearn.linear_model import LinearRegression"
      ],
      "metadata": {
        "id": "j9YXekH8Z2o4"
      },
      "execution_count": null,
      "outputs": []
    },
    {
      "cell_type": "code",
      "source": [
        "np.random.seed(0) #random으로 X값들과 y값들을 100개씩 추출합니다.\n",
        "X = 5*np.random.rand(100,1)\n",
        "y = 3*X + 5*np.random.rand(100,1)"
      ],
      "metadata": {
        "id": "1qK69-WLfCEl"
      },
      "execution_count": null,
      "outputs": []
    },
    {
      "cell_type": "code",
      "source": [
        "#X와 y를 출력해서 확인해봅시다.\n",
        "print(X)\n",
        "print(y)"
      ],
      "metadata": {
        "id": "SGK7pwWLNaaW"
      },
      "execution_count": null,
      "outputs": []
    },
    {
      "cell_type": "code",
      "source": [
        "#X와 y의 분포를 시각화해보겠습니다.직선 형태인 것을 알 수 있습니다.\n",
        "fig = plt.figure()\n",
        "plt.scatter(X, y)"
      ],
      "metadata": {
        "id": "Yg1fYDkmNR3A"
      },
      "execution_count": null,
      "outputs": []
    },
    {
      "cell_type": "code",
      "source": [
        "#train 데이터와 test 데이터를 7:3 비율로 분할합니다.\n",
        "train_X, test_X, train_y, test_y = train_test_split(X,y,test_size=0.3,random_state=0)"
      ],
      "metadata": {
        "id": "DFZQ8lflNjCv"
      },
      "execution_count": null,
      "outputs": []
    },
    {
      "cell_type": "code",
      "source": [
        "#train 데이터, test 데이터, 전체 데이터의 갯수를 확인해봅시다.\n",
        "print('전체 데이터의 크기')\n",
        "print(len(X))\n",
        "print('train 데이터의 크기')\n",
        "print(len(train_X))\n",
        "print('test 데이터의 크기')\n",
        "print(len(test_X))"
      ],
      "metadata": {
        "id": "R5wiY7ULNxLF"
      },
      "execution_count": null,
      "outputs": []
    },
    {
      "cell_type": "code",
      "source": [
        "#train 데이터와 test 데이터를 시각화해보겠습니다.(주황색이 test 데이터, 파란색이 train 데이터입니다.)\n",
        "plt.scatter(train_X,train_y)\n",
        "plt.scatter(test_X,test_y)"
      ],
      "metadata": {
        "id": "sxjrfVXnNvuK"
      },
      "execution_count": null,
      "outputs": []
    },
    {
      "cell_type": "code",
      "source": [
        "#회귀분석 모듈을 이용해서 회귀분석 함수를 정의합니다.\n",
        "simplelinear = LinearRegression()"
      ],
      "metadata": {
        "id": "ew0yaLeNh9cx"
      },
      "execution_count": null,
      "outputs": []
    },
    {
      "cell_type": "code",
      "source": [
        "# 그래프를 시각화하는 함수입니다.\n",
        "def plotting_graph(train_X, test_X, train_y, test_y, predicted):\n",
        "    fig, ax = plt.subplots(1,2, figsize=(16, 7))\n",
        "    \n",
        "    ax[0].scatter(train_X,train_y)\n",
        "    ax[1].scatter(test_X,test_y)\n",
        "    ax[1].plot(test_X, predicted, color='b')\n",
        "    \n",
        "    ax[0].set_xlabel('train_X')\n",
        "    ax[0].set_ylabel('train_y')\n",
        "    ax[1].set_xlabel('test_X')\n",
        "    ax[1].set_ylabel('test_y')\n",
        "    \n",
        "    fig.savefig(\"result.png\")"
      ],
      "metadata": {
        "id": "_uh32-VtjFYn"
      },
      "execution_count": null,
      "outputs": []
    },
    {
      "cell_type": "code",
      "source": [
        "simplelinear = simplelinear.fit(train_X, train_y) #모델을 학습시킵니다. (적당한 회귀직선을 찾는 과정입니다.)\n",
        "predicted = simplelinear.predict(test_X) #회귀직선에 test_X를 대입해서 test_y값을 예측합니다.\n",
        "model_score = simplelinear.score(test_X,test_y) #R^2를 계산합니다. (1일수록 모델의 해석력이 좋음을 의미함)"
      ],
      "metadata": {
        "id": "aJGb-xp7jKFO"
      },
      "execution_count": null,
      "outputs": []
    },
    {
      "cell_type": "code",
      "source": [
        "#회귀직선의 가중치 즉 회귀계수를 알 수 있습니다.\n",
        "beta_0 = simplelinear.intercept_\n",
        "beta_1 = simplelinear.coef_\n",
        "    \n",
        "print(\"> beta_0 : \",beta_0)\n",
        "print(\"> beta_1 : \",beta_1)\n",
        "    \n",
        "print(\"> 모델 평가 점수 :\", model_score)"
      ],
      "metadata": {
        "id": "KUswDuftOz1R"
      },
      "execution_count": null,
      "outputs": []
    },
    {
      "cell_type": "code",
      "source": [
        "# 시각화 함수 호출하기\n",
        "plotting_graph(train_X, test_X, train_y, test_y, predicted)"
      ],
      "metadata": {
        "id": "BEtow8r4PFx2"
      },
      "execution_count": null,
      "outputs": []
    },
    {
      "cell_type": "markdown",
      "source": [
        "##다중선형회귀분석"
      ],
      "metadata": {
        "id": "-SZCXcpBjxJl"
      }
    },
    {
      "cell_type": "code",
      "source": [
        "import matplotlib.pyplot as plt\n",
        "\n",
        "import numpy as np\n",
        "from sklearn.model_selection import train_test_split\n",
        "from sklearn.linear_model import LinearRegression\n",
        "\n",
        "# boston 데이터를 위한 모듈을 불러옵니다. \n",
        "from sklearn.datasets import load_boston\n",
        "import seaborn as sns\n",
        "import pandas as pd\n",
        "from sklearn.preprocessing import StandardScaler"
      ],
      "metadata": {
        "id": "btPFeQMEZ-rA"
      },
      "execution_count": null,
      "outputs": []
    },
    {
      "cell_type": "code",
      "source": [
        "X, y  = load_boston(return_X_y = True)\n",
        "total = pd.DataFrame(load_boston().data, columns=['범죄율','비소매상업지역_면적비율','일산화질소_농도','주택당_방수','하위계층_비율','흑인_비율','학생/교사_비율','25,000평방피트_초과_거주지역_비율','찰스강_경계_위치유무','1940년_이전_건축비율','방사형_고속도로_거리','직업센터_거리','재산세율'])\n",
        "total['target'] = load_boston().target #'주택가격_중앙값'"
      ],
      "metadata": {
        "id": "URXI6lqFjz_m"
      },
      "execution_count": null,
      "outputs": []
    },
    {
      "cell_type": "code",
      "source": [
        "print(\"X 데이터의 변수개수 :\", X.shape[1])\n",
        "print(total.head)\n",
        "\n",
        "print('데이터의 수')\n",
        "print(len(total))"
      ],
      "metadata": {
        "id": "SmRfBmLvPayV"
      },
      "execution_count": null,
      "outputs": []
    },
    {
      "cell_type": "code",
      "source": [
        "train_X, test_X, train_y, test_y = train_test_split(X,y,test_size=0.2,random_state=100)"
      ],
      "metadata": {
        "id": "Q9jBTjygPU8q"
      },
      "execution_count": null,
      "outputs": []
    },
    {
      "cell_type": "code",
      "source": [
        "# Standardization 평균 0 / 분산 1\n",
        "scaler = StandardScaler()   \n",
        "train_X = scaler.fit_transform(train_X)\n",
        "test_X = scaler.fit_transform(test_X)"
      ],
      "metadata": {
        "id": "hm53zwT3PWsv"
      },
      "execution_count": null,
      "outputs": []
    },
    {
      "cell_type": "code",
      "source": [
        "print('훈련데이터의 수')\n",
        "print(len(train_X))\n",
        "\n",
        "print('평가데이터의 수')\n",
        "print(len(test_X))\n",
        "\n",
        "total"
      ],
      "metadata": {
        "id": "m2g3HCs4PYiW"
      },
      "execution_count": null,
      "outputs": []
    },
    {
      "cell_type": "code",
      "source": [
        "multilinear = LinearRegression()\n",
        "    \n",
        "multilinear=multilinear.fit(train_X,train_y)"
      ],
      "metadata": {
        "id": "UXC2rz5Cjukm"
      },
      "execution_count": null,
      "outputs": []
    },
    {
      "cell_type": "code",
      "source": [
        "predicted = multilinear.predict(test_X)\n",
        "    \n",
        "model_score = multilinear.score(test_X,test_y)\n",
        "    \n",
        "print(\"\\n> 모델 평가 점수 :\", model_score)"
      ],
      "metadata": {
        "id": "g3pi6AZ5mumn"
      },
      "execution_count": null,
      "outputs": []
    },
    {
      "cell_type": "code",
      "source": [
        "beta_0 = multilinear.intercept_\n",
        "beta_i_list = multilinear.coef_\n",
        "    \n",
        "print(\"\\n> beta_0 : \",beta_0)\n",
        "print(\"> beta_i_list\")\n",
        "for i,j in zip(total.columns[:-1],beta_i_list):\n",
        "    print(i+':'+str(round(j,3)))"
      ],
      "metadata": {
        "id": "ZRUn8NR1PnPN"
      },
      "execution_count": null,
      "outputs": []
    },
    {
      "cell_type": "code",
      "source": [
        "# 데이터 컬럼에 따른 beta, exp(beta) 체크\n",
        "\n",
        "column_name = ['const'] + total.drop('target',axis=1).columns.tolist()\n",
        "beta = [round(multilinear.intercept_,2)]\n",
        "for i in multilinear.coef_.reshape(-1):\n",
        "    beta.append(round(i,2))\n",
        "odds = np.exp(beta).round(2)\n",
        "interpret = np.where(np.array(beta) > 0, 'higher', 'lower')\n",
        "\n",
        "beta_analysis = pd.DataFrame(np.c_[beta, odds, interpret], index=column_name,columns=['beta', 'exp(beta)', 'interpret'])\n",
        "beta_analysis"
      ],
      "metadata": {
        "id": "Qxt2Z95ojPIT"
      },
      "execution_count": null,
      "outputs": []
    },
    {
      "cell_type": "markdown",
      "source": [
        "독립변수\n",
        "\n",
        "CRIM: 범죄율\n",
        "\n",
        "INDUS: 비소매상업지역 면적 비율\n",
        "\n",
        "NOX: 일산화질소 농도\n",
        "\n",
        "RM: 주택당 방 수\n",
        "\n",
        "LSTAT: 인구 중 하위 계층 비율\n",
        "\n",
        "B: 인구 중 흑인 비율\n",
        "\n",
        "PTRATIO: 학생/교사 비율\n",
        "\n",
        "ZN: 25,000 평방피트를 초과 거주지역 비율\n",
        "\n",
        "CHAS: 찰스강의 경계에 위치한 경우는 1, 아니면 0\n",
        "\n",
        "AGE: 1940년 이전에 건축된 주택의 비율\n",
        "\n",
        "RAD: 방사형 고속도로까지의 거리\n",
        "\n",
        "DIS: 직업센터의 거리\n",
        "\n",
        "TAX: 재산세율\n",
        "\n",
        "종속변수(Target)\n",
        "\n",
        "보스턴 506개 타운의 1978년 주택 가격 중앙값 (단위 1,000 달러)"
      ],
      "metadata": {
        "id": "LH28Sx2Inh3U"
      }
    },
    {
      "cell_type": "code",
      "source": [
        "#상관관계 분석 이후 연관성이 높은 변수 삭제 -> 변수들의 전체적인 분포 살펴보기"
      ],
      "metadata": {
        "id": "jCj5zeCzo81M"
      },
      "execution_count": null,
      "outputs": []
    },
    {
      "cell_type": "code",
      "source": [
        "import seaborn as sns\n",
        "\n",
        "correlation_matrix = total.corr().round(2)\n",
        "plt.figure(figsize=(20,20))\n",
        "sns.heatmap(data=correlation_matrix, annot=True)\n",
        "plt.show()"
      ],
      "metadata": {
        "id": "DVFYn-0ipCuo"
      },
      "execution_count": null,
      "outputs": []
    },
    {
      "cell_type": "code",
      "source": [
        "!sudo apt-get install -y fonts-nanum\n",
        "!sudo fc-cache -fv\n",
        "!rm ~/.cache/matplotlib -rf"
      ],
      "metadata": {
        "id": "kgwEJYqTpW9I"
      },
      "execution_count": null,
      "outputs": []
    },
    {
      "cell_type": "code",
      "source": [
        "import matplotlib.pyplot as plt\n",
        "\n",
        "plt.rc('font', family='NanumBarunGothic') "
      ],
      "metadata": {
        "id": "j0XkFtGbUcxp"
      },
      "execution_count": null,
      "outputs": []
    },
    {
      "cell_type": "markdown",
      "source": [
        "재산세율, 흑인비율과 주택 임대료간의 관계"
      ],
      "metadata": {
        "id": "1FVdeDckU_j0"
      }
    },
    {
      "cell_type": "code",
      "source": [
        "plt.figure()\n",
        "plt.scatter(total['재산세율'],total['target'])"
      ],
      "metadata": {
        "id": "nhDeu2Y3U-oC"
      },
      "execution_count": null,
      "outputs": []
    },
    {
      "cell_type": "code",
      "source": [
        "plt.figure()\n",
        "plt.scatter(total['흑인_비율'],total['target'])"
      ],
      "metadata": {
        "id": "-8QyeJfVVliC"
      },
      "execution_count": null,
      "outputs": []
    }
  ]
}